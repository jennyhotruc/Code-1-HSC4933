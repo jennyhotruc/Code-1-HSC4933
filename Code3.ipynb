{
 "cells": [
  {
   "cell_type": "code",
   "execution_count": 2,
   "id": "2ae30754-6272-4edd-a313-8e2be44aa7f9",
   "metadata": {
    "tags": []
   },
   "outputs": [
    {
     "name": "stdin",
     "output_type": "stream",
     "text": [
      "Enter your name:  Jenny\n"
     ]
    },
    {
     "name": "stdout",
     "output_type": "stream",
     "text": [
      "Hello, Jenny! Nice to meet you. \n",
      "Hello, Jenny! Nice to meet you.\n"
     ]
    }
   ],
   "source": [
    "#problem 1\n",
    "name = input(\"Enter your name: \")\n",
    "print(f\"Hello, {name}! Nice to meet you. \")\n",
    "print(\"Hello, \" + name + \"! Nice to meet you.\")"
   ]
  },
  {
   "cell_type": "code",
   "execution_count": 5,
   "id": "f84e6b42-0b0b-4e75-8f2e-2a48d371a50c",
   "metadata": {
    "tags": []
   },
   "outputs": [
    {
     "name": "stdin",
     "output_type": "stream",
     "text": [
      "Enter a word:  sneakers\n"
     ]
    },
    {
     "name": "stdout",
     "output_type": "stream",
     "text": [
      "Reversed word: srekaens. \n"
     ]
    }
   ],
   "source": [
    "#problem 2\n",
    "word = input(\"Enter a word: \")\n",
    "reversed_word = word[::-1]\n",
    "print(f\"Reversed word: {reversed_word}. \")"
   ]
  },
  {
   "cell_type": "code",
   "execution_count": 6,
   "id": "f8349ba2-aab6-4200-b9b6-208112210716",
   "metadata": {
    "tags": []
   },
   "outputs": [
    {
     "name": "stdin",
     "output_type": "stream",
     "text": [
      "Enter a sentence:  I have a cat\n"
     ]
    },
    {
     "name": "stdout",
     "output_type": "stream",
     "text": [
      "This sentence has 12 characters. \n"
     ]
    }
   ],
   "source": [
    "#problem 3\n",
    "sentence = input(\"Enter a sentence: \")\n",
    "char_count = len(sentence)\n",
    "print(f\"This sentence has {char_count} characters. \")"
   ]
  },
  {
   "cell_type": "code",
   "execution_count": 9,
   "id": "e02350ce-725c-425b-8ab5-290f318c75c3",
   "metadata": {
    "tags": []
   },
   "outputs": [
    {
     "name": "stdin",
     "output_type": "stream",
     "text": [
      "Enter a word or a sentence:  Academic weapon\n"
     ]
    },
    {
     "name": "stdout",
     "output_type": "stream",
     "text": [
      "Number of vowels is 7. \n"
     ]
    }
   ],
   "source": [
    "#problem 4\n",
    "string = input(\"Enter a word or a sentence: \")\n",
    "\n",
    "string_lower = string.lower()\n",
    "\n",
    "a_count = string_lower.count('a')\n",
    "e_count = string_lower.count('e')\n",
    "i_count = string_lower.count('i')\n",
    "o_count = string_lower.count('o')\n",
    "u_count = string_lower.count('u')\n",
    "\n",
    "vowel_count = a_count + e_count + i_count + o_count + u_count\n",
    "\n",
    "print(f\"Number of vowels is {vowel_count}. \")"
   ]
  },
  {
   "cell_type": "code",
   "execution_count": 15,
   "id": "2ee53f51-8fe6-4ad8-ad57-064b5f31cef8",
   "metadata": {
    "tags": []
   },
   "outputs": [
    {
     "name": "stdin",
     "output_type": "stream",
     "text": [
      "Enter a word:  anna\n"
     ]
    },
    {
     "name": "stdout",
     "output_type": "stream",
     "text": [
      "This word is a palindrome.\n"
     ]
    }
   ],
   "source": [
    "#problem 5\n",
    "word_to_check = input(\"Enter a word: \")\n",
    "word_palindrome = word_to_check.upper()\n",
    "\n",
    "if word_palindrome == word_palindrome[::-1]:\n",
    "    print(f\"This word is a palindrome.\")\n",
    "else:\n",
    "    print(f\"This word is not a palindrome.\")"
   ]
  },
  {
   "cell_type": "code",
   "execution_count": 17,
   "id": "ec615d2c-a789-474b-930f-92a8115050bf",
   "metadata": {
    "tags": []
   },
   "outputs": [
    {
     "name": "stdin",
     "output_type": "stream",
     "text": [
      "Enter your secret message:  Michael Jackson is alive\n"
     ]
    },
    {
     "name": "stdout",
     "output_type": "stream",
     "text": [
      "Encrypted secret message: MICHAEL_JACKSON_IS_ALIVE. \n"
     ]
    }
   ],
   "source": [
    "#problem 6\n",
    "secret_message = input(\"Enter your secret message: \")\n",
    "encrypted = secret_message.upper().replace(\" \",\"_\")\n",
    "print(f\"Encrypted secret message: {encrypted}. \")"
   ]
  },
  {
   "cell_type": "code",
   "execution_count": null,
   "id": "d5e064ae-85c9-4d38-b0f5-be871ca4572b",
   "metadata": {},
   "outputs": [],
   "source": []
  }
 ],
 "metadata": {
  "kernelspec": {
   "display_name": "Python 3 (ipykernel)",
   "language": "python",
   "name": "python3"
  },
  "language_info": {
   "codemirror_mode": {
    "name": "ipython",
    "version": 3
   },
   "file_extension": ".py",
   "mimetype": "text/x-python",
   "name": "python",
   "nbconvert_exporter": "python",
   "pygments_lexer": "ipython3",
   "version": "3.11.4"
  }
 },
 "nbformat": 4,
 "nbformat_minor": 5
}
