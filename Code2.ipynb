{
 "cells": [
  {
   "cell_type": "code",
   "execution_count": 6,
   "id": "cdb35672-fc4d-466a-b662-badaf7ea5922",
   "metadata": {
    "tags": []
   },
   "outputs": [
    {
     "name": "stdin",
     "output_type": "stream",
     "text": [
      "Enter the patient's temperature (in degrees Fahrenheit):  100.4\n"
     ]
    },
    {
     "name": "stdout",
     "output_type": "stream",
     "text": [
      "The patient has a high temperature.\n"
     ]
    }
   ],
   "source": [
    "temperature_input = input(\"Enter the patient's temperature (in degrees Fahrenheit): \")\n",
    "\n",
    "try:\n",
    "    temperature = float(temperature_input)\n",
    "    if temperature >= 99.5:\n",
    "        print(\"The patient has a high temperature.\")\n",
    "    else:\n",
    "        print(\"The patient's temperature is normal.\")\n",
    "except ValueError:\n",
    "    print(\"Error: Please enter a valid temperature (numeric value).\")"
   ]
  },
  {
   "cell_type": "code",
   "execution_count": 8,
   "id": "e7caaf54-526d-4ff7-ac60-486f4c9e4b8d",
   "metadata": {
    "tags": []
   },
   "outputs": [
    {
     "name": "stdin",
     "output_type": "stream",
     "text": [
      "Enter the patient's temperature (in degrees Fahrenheit):  98.7\n"
     ]
    },
    {
     "name": "stdout",
     "output_type": "stream",
     "text": [
      "The patient's temperature is normal.\n"
     ]
    }
   ],
   "source": [
    "temperature_input = input(\"Enter the patient's temperature (in degrees Fahrenheit): \")\n",
    "\n",
    "try:\n",
    "    temperature = float(temperature_input)\n",
    "    if temperature >= 99.5:\n",
    "        print(\"The patient has a high temperature.\")\n",
    "    else:\n",
    "        print(\"The patient's temperature is normal.\")\n",
    "except ValueError:\n",
    "    print(\"Error: Please enter a valid temperature (numeric value).\")"
   ]
  },
  {
   "cell_type": "code",
   "execution_count": 7,
   "id": "f3ec1d9d-1816-4db0-84be-8146f56f73ea",
   "metadata": {
    "tags": []
   },
   "outputs": [
    {
     "name": "stdin",
     "output_type": "stream",
     "text": [
      "Enter the patient's temperature (in degrees Fahrenheit):  101.3\n"
     ]
    },
    {
     "name": "stdout",
     "output_type": "stream",
     "text": [
      "The patient has a high temperature.\n"
     ]
    }
   ],
   "source": [
    "temperature_input = input(\"Enter the patient's temperature (in degrees Fahrenheit): \")\n",
    "\n",
    "try:\n",
    "    temperature = float(temperature_input)\n",
    "    if temperature >= 99.5:\n",
    "        print(\"The patient has a high temperature.\")\n",
    "    else:\n",
    "        print(\"The patient's temperature is normal.\")\n",
    "except ValueError:\n",
    "    print(\"Error: Please enter a valid temperature (numeric value).\")"
   ]
  },
  {
   "cell_type": "code",
   "execution_count": 9,
   "id": "dcddc816-4aa2-490f-9cfc-0c768b27c948",
   "metadata": {
    "tags": []
   },
   "outputs": [
    {
     "name": "stdin",
     "output_type": "stream",
     "text": [
      "Enter the patient's temperature (in degrees Fahrenheit):  xyz\n"
     ]
    },
    {
     "name": "stdout",
     "output_type": "stream",
     "text": [
      "Error: Please enter a valid temperature (numeric value).\n"
     ]
    }
   ],
   "source": [
    "temperature_input = input(\"Enter the patient's temperature (in degrees Fahrenheit): \")\n",
    "\n",
    "try:\n",
    "    temperature = float(temperature_input)\n",
    "    if temperature >= 99.5:\n",
    "        print(\"The patient has a high temperature.\")\n",
    "    else:\n",
    "        print(\"The patient's temperature is normal.\")\n",
    "except ValueError:\n",
    "    print(\"Error: Please enter a valid temperature (numeric value).\")"
   ]
  },
  {
   "cell_type": "code",
   "execution_count": 10,
   "id": "0db8eaa5-c374-47e8-a0c7-b867461e678f",
   "metadata": {
    "tags": []
   },
   "outputs": [
    {
     "name": "stdin",
     "output_type": "stream",
     "text": [
      "Enter the patient's temperature (in degrees Fahrenheit):  97.9\n"
     ]
    },
    {
     "name": "stdout",
     "output_type": "stream",
     "text": [
      "The patient's temperature is normal.\n"
     ]
    }
   ],
   "source": [
    "temperature_input = input(\"Enter the patient's temperature (in degrees Fahrenheit): \")\n",
    "\n",
    "try:\n",
    "    temperature = float(temperature_input)\n",
    "    if temperature >= 99.5:\n",
    "        print(\"The patient has a high temperature.\")\n",
    "    else:\n",
    "        print(\"The patient's temperature is normal.\")\n",
    "except ValueError:\n",
    "    print(\"Error: Please enter a valid temperature (numeric value).\")"
   ]
  },
  {
   "cell_type": "code",
   "execution_count": null,
   "id": "5c1f6c4f-1d50-4551-b80f-0694500d4d71",
   "metadata": {},
   "outputs": [],
   "source": []
  }
 ],
 "metadata": {
  "kernelspec": {
   "display_name": "Python 3 (ipykernel)",
   "language": "python",
   "name": "python3"
  },
  "language_info": {
   "codemirror_mode": {
    "name": "ipython",
    "version": 3
   },
   "file_extension": ".py",
   "mimetype": "text/x-python",
   "name": "python",
   "nbconvert_exporter": "python",
   "pygments_lexer": "ipython3",
   "version": "3.11.4"
  }
 },
 "nbformat": 4,
 "nbformat_minor": 5
}
