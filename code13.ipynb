{
 "cells": [
  {
   "cell_type": "code",
   "execution_count": 8,
   "id": "93f6c3f9-39fb-43e7-a813-cedb1688f21d",
   "metadata": {
    "tags": []
   },
   "outputs": [
    {
     "name": "stdout",
     "output_type": "stream",
     "text": [
      "-- Patient Data Statistics --\n",
      "AverageAge: 44.40\n",
      "MalePatients: 2\n",
      "FemalePatients: 3\n",
      "HighestBloodPressure: 140/90\n",
      "LowestBloodPressure: 120/80\n",
      "AverageTemperature: 36.88\n"
     ]
    }
   ],
   "source": [
    "#average age\n",
    "def calculate_average_age(patients):\n",
    "    total_age = sum(patient['Age'] for patient in patients)\n",
    "    return total_age / len(patients)\n",
    "\n",
    "#count male and female patients\n",
    "def count_gender(patients):\n",
    "    male_count = sum(1 for patient in patients if patient['Gender'] == 'Male')\n",
    "    female_count = len(patients) - male_count\n",
    "    return male_count, female_count\n",
    "\n",
    "#highest and lowest blood pressure\n",
    "def find_blood_pressure_extremes(patients):\n",
    "    blood_pressures = [patient['BloodPressure'] for patient in patients]\n",
    "    highest_blood_pressure = max(blood_pressures)\n",
    "    lowest_blood_pressure = min(blood_pressures)\n",
    "    return highest_blood_pressure, lowest_blood_pressure\n",
    "\n",
    "#average body temperature\n",
    "def calculate_average_temperature(patients):\n",
    "    total_temperature = sum(patient['Temperature'] for patient in patients)\n",
    "    return total_temperature / len(patients)\n",
    "\n",
    "# Read data from the file\n",
    "with open('Week13Assignment.txt', 'r') as file:\n",
    "    lines = file.readlines()\n",
    "\n",
    "# Parse patient information\n",
    "patients = []\n",
    "for line in lines[1:]:  # Skip the header line\n",
    "    data = line.strip().split(', ')\n",
    "    patient_info = {\n",
    "        'Name': data[0],\n",
    "        'Age': int(data[1]),\n",
    "        'Gender': data[2],\n",
    "        'BloodPressure': data[3],\n",
    "        'Temperature': float(data[4])\n",
    "    }\n",
    "    patients.append(patient_info)\n",
    "\n",
    "# Calculate statistics\n",
    "average_age = calculate_average_age(patients)\n",
    "male_patients, female_patients = count_gender(patients)\n",
    "highest_bp, lowest_bp = find_blood_pressure_extremes(patients)\n",
    "average_temperature = calculate_average_temperature(patients)\n",
    "\n",
    "# Print\n",
    "print(\"-- Patient Data Statistics --\")\n",
    "print(f\"AverageAge: {average_age:.2f}\")\n",
    "print(f\"MalePatients: {male_patients}\")\n",
    "print(f\"FemalePatients: {female_patients}\")\n",
    "print(f\"HighestBloodPressure: {highest_bp}\")\n",
    "print(f\"LowestBloodPressure: {lowest_bp}\")\n",
    "print(f\"AverageTemperature: {average_temperature:.2f}\")\n"
   ]
  },
  {
   "cell_type": "code",
   "execution_count": null,
   "id": "c2cac13c-3620-427d-83e0-5b133cfc3600",
   "metadata": {},
   "outputs": [],
   "source": []
  }
 ],
 "metadata": {
  "kernelspec": {
   "display_name": "Python 3 (ipykernel)",
   "language": "python",
   "name": "python3"
  },
  "language_info": {
   "codemirror_mode": {
    "name": "ipython",
    "version": 3
   },
   "file_extension": ".py",
   "mimetype": "text/x-python",
   "name": "python",
   "nbconvert_exporter": "python",
   "pygments_lexer": "ipython3",
   "version": "3.11.4"
  }
 },
 "nbformat": 4,
 "nbformat_minor": 5
}
