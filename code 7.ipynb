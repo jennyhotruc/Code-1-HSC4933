{
 "cells": [
  {
   "cell_type": "code",
   "execution_count": 2,
   "id": "f986631d-3ad5-4afe-9f6b-abd0f713dcdd",
   "metadata": {
    "tags": []
   },
   "outputs": [],
   "source": [
    "data_points = [\n",
    "\n",
    "    (2000, 72.5),\n",
    "\n",
    "    (2001, 73.1),\n",
    "\n",
    "    (2002, 73.8),\n",
    "\n",
    "    (2003, 74.2),\n",
    "\n",
    "    (2004, 74.7),\n",
    "\n",
    "    (2005, 75.3),\n",
    "\n",
    "    (2006, 75.9),\n",
    "\n",
    "    (2007, 76.5),\n",
    "\n",
    "    (2008, 76.9),\n",
    "\n",
    "    (2009, 77.4),\n",
    "\n",
    "    (2010, 78.0),\n",
    "\n",
    "    (2011, 78.5),\n",
    "\n",
    "    (2012, 79.0),\n",
    "\n",
    "    (2013, 79.5),\n",
    "\n",
    "    (2014, 80.0),\n",
    "\n",
    "    (2015, 80.5),\n",
    "\n",
    "    (2016, 81.0),\n",
    "\n",
    "    (2017, 81.5),\n",
    "\n",
    "    (2018, 82.0),\n",
    "\n",
    "    (2019, 82.5)\n",
    "\n",
    "]"
   ]
  },
  {
   "cell_type": "code",
   "execution_count": 6,
   "id": "5d749044-1647-4a3e-af92-f6f72f6db6eb",
   "metadata": {
    "tags": []
   },
   "outputs": [],
   "source": [
    "def mean_calc(data_points):\n",
    "    total = 0\n",
    "    count = 0\n",
    "    \n",
    "    for year, expectancy in data_points:\n",
    "        total += expectancy\n",
    "        count += 1\n",
    "        \n",
    "        if count > 0:\n",
    "            average = total / count\n",
    "            return average\n",
    "        else:\n",
    "            return None"
   ]
  },
  {
   "cell_type": "code",
   "execution_count": 8,
   "id": "1509bff9-6254-4d8b-ace3-c6eb456bc825",
   "metadata": {
    "tags": []
   },
   "outputs": [
    {
     "name": "stdout",
     "output_type": "stream",
     "text": [
      "Average Life Expectancy: 72.5\n"
     ]
    }
   ],
   "source": [
    "mean_life = mean_calc(data_points)\n",
    "\n",
    "print(f\"Average Life Expectancy: {mean_life}\")"
   ]
  },
  {
   "cell_type": "code",
   "execution_count": 17,
   "id": "ab9fcba4-0155-4857-8cdb-2b7e64dfd0a0",
   "metadata": {
    "tags": []
   },
   "outputs": [],
   "source": [
    "def regression_coefficients(data_points):\n",
    "    x_sum = 0\n",
    "    y_sum = 0\n",
    "    n = len(data_points)\n",
    "    \n",
    "    for x, y in data_points:\n",
    "        x_sum += x\n",
    "        y_sum += y\n",
    "        \n",
    "    x_mean = x_sum / n\n",
    "    y_mean = y_sum / n\n",
    "    \n",
    "    numerator = 0\n",
    "    denominator = 0\n",
    "    \n",
    "    #Calculate the slope\n",
    "    for x, y in data_points:\n",
    "        numerator += (x - x_mean) * ( y - y_mean)\n",
    "        denominator += ( x - x_mean) ** 2\n",
    "        \n",
    "    slope = numerator / denominator \n",
    "    \n",
    "    #Calculate the intercept\n",
    "    intercept = y_mean - (slope * x_mean)\n",
    "    \n",
    "    return slope, intercept"
   ]
  },
  {
   "cell_type": "code",
   "execution_count": 18,
   "id": "b08d0124-3d4f-49fc-a14a-cf2596e3f81c",
   "metadata": {
    "tags": []
   },
   "outputs": [
    {
     "name": "stdout",
     "output_type": "stream",
     "text": [
      "Slope: 0.5221052631578948\n",
      "Intercept: -971.5305263157896\n"
     ]
    }
   ],
   "source": [
    "slope, intercept = regression_coefficients(data_points)\n",
    "\n",
    "print(f\"Slope: {slope}\")\n",
    "print(f\"Intercept: {intercept}\")"
   ]
  },
  {
   "cell_type": "code",
   "execution_count": 14,
   "id": "bbe13ce7-d732-4f7f-8d4d-ad3e376dfc37",
   "metadata": {
    "tags": []
   },
   "outputs": [],
   "source": [
    "#Making prediction\n",
    "def prediction(data_points, slope, intercept):\n",
    "    y_predicted = slope * data_points + intercept\n",
    "    \n",
    "    return y_predicted"
   ]
  },
  {
   "cell_type": "code",
   "execution_count": 21,
   "id": "a46c4d07-e009-4927-ac95-448ef4f95296",
   "metadata": {
    "tags": []
   },
   "outputs": [
    {
     "name": "stdin",
     "output_type": "stream",
     "text": [
      "What year would you like to predict?  2025\n"
     ]
    },
    {
     "name": "stdout",
     "output_type": "stream",
     "text": [
      "For x = 2025, the predicted life expectancy is 85.73263157894746\n"
     ]
    }
   ],
   "source": [
    "#Using the prediction to formula\n",
    "slope = 0.5221052631578948\n",
    "intercept = -971.5305263157896\n",
    "\n",
    "year_prediction = int(input(\"What year would you like to predict? \"))\n",
    "\n",
    "predicted_value = prediction(year_prediction, slope, intercept)\n",
    "\n",
    "print(f\"For x = {year_prediction}, the predicted life expectancy is {predicted_value}\")"
   ]
  },
  {
   "cell_type": "code",
   "execution_count": null,
   "id": "5f544d71-aedb-4401-ad28-8ba2518e394d",
   "metadata": {},
   "outputs": [],
   "source": []
  }
 ],
 "metadata": {
  "kernelspec": {
   "display_name": "Python 3 (ipykernel)",
   "language": "python",
   "name": "python3"
  },
  "language_info": {
   "codemirror_mode": {
    "name": "ipython",
    "version": 3
   },
   "file_extension": ".py",
   "mimetype": "text/x-python",
   "name": "python",
   "nbconvert_exporter": "python",
   "pygments_lexer": "ipython3",
   "version": "3.11.4"
  }
 },
 "nbformat": 4,
 "nbformat_minor": 5
}
