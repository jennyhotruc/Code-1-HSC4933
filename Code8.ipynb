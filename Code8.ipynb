{
 "cells": [
  {
   "cell_type": "code",
   "execution_count": 1,
   "id": "486d4930-9cf4-4bfd-8f5e-900077ddf536",
   "metadata": {
    "tags": []
   },
   "outputs": [],
   "source": [
    "data_points = [\n",
    "\n",
    "    (2000, 72.5),\n",
    "\n",
    "    (2001, 73.1),\n",
    "\n",
    "    (2002, 73.8),\n",
    "\n",
    "    (2003, 74.2),\n",
    "\n",
    "    (2004, 74.7),\n",
    "\n",
    "    (2005, 75.3),\n",
    "\n",
    "    (2006, 75.9),\n",
    "\n",
    "    (2007, 76.5),\n",
    "\n",
    "    (2008, 76.9),\n",
    "\n",
    "    (2009, 77.4),\n",
    "\n",
    "    (2010, 78.0),\n",
    "\n",
    "    (2011, 78.5),\n",
    "\n",
    "    (2012, 79.0),\n",
    "\n",
    "    (2013, 79.5),\n",
    "\n",
    "    (2014, 80.0),\n",
    "\n",
    "    (2015, 80.5),\n",
    "\n",
    "    (2016, 81.0),\n",
    "\n",
    "    (2017, 81.5),\n",
    "\n",
    "    (2018, 82.0),\n",
    "\n",
    "    (2019, 82.5)\n",
    "\n",
    "]"
   ]
  },
  {
   "cell_type": "code",
   "execution_count": 2,
   "id": "1877b5eb-a77a-4508-a41a-1e6c38a516e0",
   "metadata": {
    "tags": []
   },
   "outputs": [
    {
     "name": "stdout",
     "output_type": "stream",
     "text": [
      "[2000, 2001, 2002, 2003, 2004, 2005, 2006, 2007, 2008, 2009, 2010, 2011, 2012, 2013, 2014, 2015, 2016, 2017, 2018, 2019]\n",
      "[72.5, 73.1, 73.8, 74.2, 74.7, 75.3, 75.9, 76.5, 76.9, 77.4, 78.0, 78.5, 79.0, 79.5, 80.0, 80.5, 81.0, 81.5, 82.0, 82.5]\n"
     ]
    }
   ],
   "source": [
    "#First method using a for loop\n",
    "years = []\n",
    "expectancies = []\n",
    "\n",
    "for year, expectancy in data_points:\n",
    "    years.append(year)\n",
    "    expectancies.append(expectancy)\n",
    "    \n",
    "print(years)\n",
    "print(expectancies)"
   ]
  },
  {
   "cell_type": "code",
   "execution_count": 3,
   "id": "076bb713-01be-4af5-9169-909c8cba09af",
   "metadata": {
    "tags": []
   },
   "outputs": [
    {
     "name": "stdout",
     "output_type": "stream",
     "text": [
      "[2000, 2001, 2002, 2003, 2004, 2005, 2006, 2007, 2008, 2009, 2010, 2011, 2012, 2013, 2014, 2015, 2016, 2017, 2018, 2019]\n",
      "[72.5, 73.1, 73.8, 74.2, 74.7, 75.3, 75.9, 76.5, 76.9, 77.4, 78.0, 78.5, 79.0, 79.5, 80.0, 80.5, 81.0, 81.5, 82.0, 82.5]\n"
     ]
    }
   ],
   "source": [
    "#list comprehension\n",
    "years = [year for year, _ in data_points]\n",
    "expectancies = [expectancy for _, expectancy in data_points]\n",
    "\n",
    "print(years)\n",
    "print(expectancies)"
   ]
  },
  {
   "cell_type": "code",
   "execution_count": 4,
   "id": "bb35761c-f2b8-4c1d-a468-96b5f141e5c0",
   "metadata": {
    "tags": []
   },
   "outputs": [
    {
     "name": "stdout",
     "output_type": "stream",
     "text": [
      "{2000: 72.5, 2001: 73.1, 2002: 73.8, 2003: 74.2, 2004: 74.7, 2005: 75.3, 2006: 75.9, 2007: 76.5, 2008: 76.9, 2009: 77.4, 2010: 78.0, 2011: 78.5, 2012: 79.0, 2013: 79.5, 2014: 80.0, 2015: 80.5, 2016: 81.0, 2017: 81.5, 2018: 82.0, 2019: 82.5}\n"
     ]
    }
   ],
   "source": [
    "data_dict = dict(zip(years, expectancies))\n",
    "print(data_dict)"
   ]
  },
  {
   "cell_type": "code",
   "execution_count": 6,
   "id": "4bced050-09d6-42e5-9745-51aa3969bc64",
   "metadata": {
    "tags": []
   },
   "outputs": [
    {
     "name": "stdout",
     "output_type": "stream",
     "text": [
      "{2000: 72.5, 2001: 73.1, 2002: 73.8, 2003: 74.2, 2004: 74.7, 2005: 75.3, 2006: 75.9, 2007: 76.5, 2008: 76.9, 2009: 77.4, 2010: 78.0, 2011: 78.5, 2012: 79.0, 2013: 79.5, 2014: 80.0, 2015: 80.5, 2016: 81.0, 2017: 81.5, 2018: 82.0, 2019: 82.5}\n"
     ]
    }
   ],
   "source": [
    "data_dict2 = {}\n",
    "for item in data_points:\n",
    "    key, value = item\n",
    "    data_dict2[key] = value\n",
    "    \n",
    "print(data_dict2)"
   ]
  },
  {
   "cell_type": "code",
   "execution_count": 7,
   "id": "8e767f1f-2e52-4f37-a149-733db52c9e3e",
   "metadata": {
    "tags": []
   },
   "outputs": [],
   "source": [
    "#code 8 \n",
    "data_list = [('apple', 5), ('banana', 2), ('orange', 8), ('grapes', 3), ('pineapple', 1)]\n",
    "\n",
    "def convert_to_dictionary(data_list):\n",
    "    result_dict = {}\n",
    "    for item in data_list:\n",
    "        key, value = item\n",
    "        result_dict[key] = value\n",
    "    return result_dict"
   ]
  },
  {
   "cell_type": "code",
   "execution_count": 8,
   "id": "69b63817-c719-4fec-8a49-9d467f132943",
   "metadata": {
    "tags": []
   },
   "outputs": [
    {
     "name": "stdout",
     "output_type": "stream",
     "text": [
      "Original data type :  [('apple', 5), ('banana', 2), ('orange', 8), ('grapes', 3), ('pineapple', 1)]\n",
      "Converted data type:  {'apple': 5, 'banana': 2, 'orange': 8, 'grapes': 3, 'pineapple': 1}\n"
     ]
    }
   ],
   "source": [
    "#using function for conversion\n",
    "convert_dict = convert_to_dictionary(data_list)\n",
    "\n",
    "print(\"Original data type : \", data_list)\n",
    "print(\"Converted data type: \", convert_dict)"
   ]
  },
  {
   "cell_type": "code",
   "execution_count": null,
   "id": "6406b514-c9fe-4df2-b40c-cfd6f90444b1",
   "metadata": {},
   "outputs": [],
   "source": []
  }
 ],
 "metadata": {
  "kernelspec": {
   "display_name": "Python 3 (ipykernel)",
   "language": "python",
   "name": "python3"
  },
  "language_info": {
   "codemirror_mode": {
    "name": "ipython",
    "version": 3
   },
   "file_extension": ".py",
   "mimetype": "text/x-python",
   "name": "python",
   "nbconvert_exporter": "python",
   "pygments_lexer": "ipython3",
   "version": "3.11.4"
  }
 },
 "nbformat": 4,
 "nbformat_minor": 5
}
