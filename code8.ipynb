{
 "cells": [
  {
   "cell_type": "code",
   "execution_count": 1,
   "id": "6c5e8c93-a205-40cb-a182-31698427befe",
   "metadata": {
    "tags": []
   },
   "outputs": [
    {
     "name": "stdout",
     "output_type": "stream",
     "text": [
      "Patient Information:\n",
      "Name: John Doe\n",
      "Age: 45\n",
      "Gender: Male\n",
      "Blood Pressure: (140, 85)\n",
      "Temperature: 36.8\n",
      "Patient 1 is Hypertensive: True\n",
      "Patient 1 is Feverish: False\n",
      "\n",
      "Patient Information:\n",
      "Name: Jane Smith\n",
      "Age: 32\n",
      "Gender: Female\n",
      "Blood Pressure: (130, 88)\n",
      "Temperature: 37.6\n",
      "Patient 2 is Hypertensive: False\n",
      "Patient 2 is Feverish: True\n"
     ]
    }
   ],
   "source": [
    "# Define a class Patient to represent a patient's health info\n",
    "class Patient:\n",
    "    # Initialize the attributes\n",
    "    def __init__(self, name, age, gender, blood_pressure, temperature):\n",
    "        self.name = name\n",
    "        self.age = age\n",
    "        self.gender = gender\n",
    "        self.blood_pressure = blood_pressure\n",
    "        self.temperature = temperature\n",
    "\n",
    "    # Display the patient's information in a formatted way\n",
    "    def display_patient_info(self):\n",
    "        print(f\"Patient Information:\\nName: {self.name}\\nAge: {self.age}\\nGender: {self.gender}\\nBlood Pressure: {self.blood_pressure}\\nTemperature: {self.temperature}\")\n",
    "\n",
    "    # Check if the patient has hypertension based on their blood pressure\n",
    "    def is_hypertensive(self):\n",
    "        systolic, diastolic = self.blood_pressure # Unpack the tuple\n",
    "        if systolic >= 140 or diastolic >= 90:\n",
    "            return True\n",
    "        else:\n",
    "            return False\n",
    "\n",
    "    # Check if the patient has a fever based on their body temperature\n",
    "    def is_feverish(self):\n",
    "        if self.temperature >= 37.5:\n",
    "            return True\n",
    "        else:\n",
    "            return False\n",
    "\n",
    "# Create two instances of the Patient class, representing patients from two different hospitals\n",
    "patient_1 = Patient(\"John Doe\", 45, \"Male\", (140, 85), 36.8)\n",
    "patient_2 = Patient(\"Jane Smith\", 32, \"Female\", (130, 88), 37.6)\n",
    "\n",
    "# Display patient information, check for hypertension, and check for fever\n",
    "patient_1.display_patient_info()\n",
    "print(f\"Patient 1 is Hypertensive: {patient_1.is_hypertensive()}\")\n",
    "print(f\"Patient 1 is Feverish: {patient_1.is_feverish()}\")\n",
    "print() # Print a blank line\n",
    "patient_2.display_patient_info()\n",
    "print(f\"Patient 2 is Hypertensive: {patient_2.is_hypertensive()}\")\n",
    "print(f\"Patient 2 is Feverish: {patient_2.is_feverish()}\")\n"
   ]
  },
  {
   "cell_type": "code",
   "execution_count": null,
   "id": "29acb690-321c-4bf7-8c58-99e02f8b16f4",
   "metadata": {},
   "outputs": [],
   "source": []
  }
 ],
 "metadata": {
  "kernelspec": {
   "display_name": "Python 3 (ipykernel)",
   "language": "python",
   "name": "python3"
  },
  "language_info": {
   "codemirror_mode": {
    "name": "ipython",
    "version": 3
   },
   "file_extension": ".py",
   "mimetype": "text/x-python",
   "name": "python",
   "nbconvert_exporter": "python",
   "pygments_lexer": "ipython3",
   "version": "3.11.4"
  }
 },
 "nbformat": 4,
 "nbformat_minor": 5
}
