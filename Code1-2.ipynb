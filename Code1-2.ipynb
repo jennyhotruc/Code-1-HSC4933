{
 "cells": [
  {
   "cell_type": "code",
   "execution_count": 6,
   "id": "133e5096-c775-4149-823f-ddd4ae73021a",
   "metadata": {
    "tags": []
   },
   "outputs": [
    {
     "name": "stdin",
     "output_type": "stream",
     "text": [
      "Population:  2660000\n",
      "Existing cases:  1459\n"
     ]
    },
    {
     "name": "stdout",
     "output_type": "stream",
     "text": [
      "0.0005484962406015038\n",
      "54.849624060150376\n"
     ]
    }
   ],
   "source": [
    "# prevalence \n",
    "population = int(input(\"Population: \"))\n",
    "existingcases = int(input(\"Existing cases: \"))\n",
    "prevalence = existingcases / population\n",
    "print(prevalence)\n",
    "print(prevalence * 100000)"
   ]
  },
  {
   "cell_type": "code",
   "execution_count": 2,
   "id": "4f9e98a2-c5c3-49e5-be1f-de9c5dfc987a",
   "metadata": {
    "tags": []
   },
   "outputs": [
    {
     "name": "stdin",
     "output_type": "stream",
     "text": [
      "New cases:  248\n"
     ]
    },
    {
     "name": "stdout",
     "output_type": "stream",
     "text": [
      "9.323308270676691e-05\n",
      "9.32330827067669\n"
     ]
    }
   ],
   "source": [
    "# incidence\n",
    "newcases = int(input(\"New cases: \"))\n",
    "incidence = newcases / population\n",
    "print(incidence)\n",
    "print(incidence * 100000)"
   ]
  },
  {
   "cell_type": "code",
   "execution_count": 5,
   "id": "9a858f9d-9d6b-46db-afd1-60c52d6a4046",
   "metadata": {
    "tags": []
   },
   "outputs": [
    {
     "name": "stdin",
     "output_type": "stream",
     "text": [
      "Number of those who died:  1\n",
      "Number of those who had the disease:  1459\n"
     ]
    },
    {
     "name": "stdout",
     "output_type": "stream",
     "text": [
      "0.0006854009595613434\n",
      "68.54009595613434\n"
     ]
    }
   ],
   "source": [
    "# mortality rate\n",
    "dead = int(input(\"Number of those who died: \"))\n",
    "segment = int(input(\"Number of those who had the disease: \"))\n",
    "mortalityrate = dead / segment\n",
    "print(mortalityrate) \n",
    "print(mortalityrate * 100000)"
   ]
  },
  {
   "cell_type": "code",
   "execution_count": null,
   "id": "a258a4de-a3b2-4e36-a277-04695d75faa4",
   "metadata": {},
   "outputs": [],
   "source": []
  }
 ],
 "metadata": {
  "kernelspec": {
   "display_name": "Python 3 (ipykernel)",
   "language": "python",
   "name": "python3"
  },
  "language_info": {
   "codemirror_mode": {
    "name": "ipython",
    "version": 3
   },
   "file_extension": ".py",
   "mimetype": "text/x-python",
   "name": "python",
   "nbconvert_exporter": "python",
   "pygments_lexer": "ipython3",
   "version": "3.11.4"
  }
 },
 "nbformat": 4,
 "nbformat_minor": 5
}
