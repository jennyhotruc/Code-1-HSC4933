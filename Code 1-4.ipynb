{
 "cells": [
  {
   "cell_type": "code",
   "execution_count": 1,
   "id": "b0dcf70d-b517-4a9a-83f1-954d521a24e0",
   "metadata": {
    "tags": []
   },
   "outputs": [
    {
     "name": "stdin",
     "output_type": "stream",
     "text": [
      "Population:  1780000\n",
      "Existing cases:  15000\n"
     ]
    },
    {
     "name": "stdout",
     "output_type": "stream",
     "text": [
      "0.008426966292134831\n",
      "842.6966292134831\n"
     ]
    }
   ],
   "source": [
    "# prevalence \n",
    "population = int(input(\"Population: \"))\n",
    "existingcases = int(input(\"Existing cases: \"))\n",
    "prevalence = existingcases / population\n",
    "print(prevalence)\n",
    "print(prevalence * 100000)"
   ]
  },
  {
   "cell_type": "code",
   "execution_count": 2,
   "id": "fc1eacde-9f67-4274-a502-41b209a3d389",
   "metadata": {
    "tags": []
   },
   "outputs": [
    {
     "name": "stdin",
     "output_type": "stream",
     "text": [
      "New cases:  3000\n"
     ]
    },
    {
     "name": "stdout",
     "output_type": "stream",
     "text": [
      "0.0016853932584269663\n",
      "168.53932584269663\n"
     ]
    }
   ],
   "source": [
    "# incidence\n",
    "newcases = int(input(\"New cases: \"))\n",
    "incidence = newcases / population\n",
    "print(incidence)\n",
    "print(incidence * 100000)"
   ]
  },
  {
   "cell_type": "code",
   "execution_count": 3,
   "id": "d660fc72-cde0-414a-aa63-f270c1128b20",
   "metadata": {
    "tags": []
   },
   "outputs": [
    {
     "name": "stdin",
     "output_type": "stream",
     "text": [
      "Number of those who died:  5\n",
      "Number of those who had the disease:  15000\n"
     ]
    },
    {
     "name": "stdout",
     "output_type": "stream",
     "text": [
      "0.0003333333333333333\n",
      "33.333333333333336\n"
     ]
    }
   ],
   "source": [
    "# mortality rate\n",
    "dead = int(input(\"Number of those who died: \"))\n",
    "segment = int(input(\"Number of those who had the disease: \"))\n",
    "mortalityrate = dead / segment\n",
    "print(mortalityrate) \n",
    "print(mortalityrate * 100000)"
   ]
  },
  {
   "cell_type": "code",
   "execution_count": 5,
   "id": "41c54f81-2a4d-4df5-a233-21780c1fc275",
   "metadata": {
    "tags": []
   },
   "outputs": [
    {
     "name": "stdout",
     "output_type": "stream",
     "text": [
      "45\n",
      "32\n",
      "49\n",
      "40\n",
      "25\n"
     ]
    }
   ],
   "source": [
    "# years of potential life lost\n",
    "lifeexpectancy = 77\n",
    "ages = [32, 45, 28, 37, 52]\n",
    "print(lifeexpectancy - ages[0])\n",
    "print(lifeexpectancy - ages[1])\n",
    "print(lifeexpectancy - ages[2])\n",
    "print(lifeexpectancy - ages[3])\n",
    "print(lifeexpectancy - ages[4])"
   ]
  },
  {
   "cell_type": "code",
   "execution_count": 6,
   "id": "30a20829-6ba6-4987-817e-cd21d44b2071",
   "metadata": {
    "tags": []
   },
   "outputs": [
    {
     "name": "stdout",
     "output_type": "stream",
     "text": [
      "38.2\n"
     ]
    }
   ],
   "source": [
    "lifelost = [45, 32, 49, 40, 25]\n",
    "yppl = sum(lifelost) / len(lifelost)\n",
    "print(yppl)"
   ]
  },
  {
   "cell_type": "code",
   "execution_count": null,
   "id": "73a0ca88-7a6d-4043-aac5-3d0ccc472dbf",
   "metadata": {},
   "outputs": [],
   "source": []
  }
 ],
 "metadata": {
  "kernelspec": {
   "display_name": "Python 3 (ipykernel)",
   "language": "python",
   "name": "python3"
  },
  "language_info": {
   "codemirror_mode": {
    "name": "ipython",
    "version": 3
   },
   "file_extension": ".py",
   "mimetype": "text/x-python",
   "name": "python",
   "nbconvert_exporter": "python",
   "pygments_lexer": "ipython3",
   "version": "3.11.4"
  }
 },
 "nbformat": 4,
 "nbformat_minor": 5
}
