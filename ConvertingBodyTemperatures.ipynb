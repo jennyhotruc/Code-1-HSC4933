{
 "cells": [
  {
   "cell_type": "code",
   "execution_count": 2,
   "id": "65d0d642-4197-4e00-a4d7-25a93ed44062",
   "metadata": {
    "tags": []
   },
   "outputs": [],
   "source": [
    "#Celsius to Fahrenheit\n",
    "def Celsius_to_Fahrenheit(Celsius):\n",
    "    return (Celsius * 9/5)+32\n",
    "\n",
    "#Fahrenheit to Celsius\n",
    "def Fahrenheit_to_Celsius(Fahrenheit):\n",
    "    return (Fahrenheit - 32) * 5/9"
   ]
  },
  {
   "cell_type": "code",
   "execution_count": 15,
   "id": "17d615cc-e630-4ca2-8a9f-3d8b5732e39b",
   "metadata": {
    "tags": []
   },
   "outputs": [
    {
     "ename": "NameError",
     "evalue": "name 'Celsius_to_Fahrenheit' is not defined",
     "output_type": "error",
     "traceback": [
      "\u001b[0;31m---------------------------------------------------------------------------\u001b[0m",
      "\u001b[0;31mNameError\u001b[0m                                 Traceback (most recent call last)",
      "Cell \u001b[0;32mIn[15], line 3\u001b[0m\n\u001b[1;32m      1\u001b[0m \u001b[38;5;66;03m# Setting dictionary to map the user input to the function\u001b[39;00m\n\u001b[1;32m      2\u001b[0m conversion_features \u001b[38;5;241m=\u001b[39m {\n\u001b[0;32m----> 3\u001b[0m     \u001b[38;5;124m'\u001b[39m\u001b[38;5;124mc\u001b[39m\u001b[38;5;124m'\u001b[39m: Celsius_to_Fahrenheit,\n\u001b[1;32m      4\u001b[0m     \u001b[38;5;124m'\u001b[39m\u001b[38;5;124mf\u001b[39m\u001b[38;5;124m'\u001b[39m: Fahrenheit_to_Celsius\n\u001b[1;32m      5\u001b[0m }\n\u001b[1;32m      6\u001b[0m \u001b[38;5;28mprint\u001b[39m(\u001b[38;5;124m\"\u001b[39m\u001b[38;5;124mChoose the conversion direction.\u001b[39m\u001b[38;5;124m\"\u001b[39m)\n\u001b[1;32m      7\u001b[0m \u001b[38;5;28mprint\u001b[39m(\u001b[38;5;124m\"\u001b[39m\u001b[38;5;124mPut C for Celsius to Fahrenheit or F for Fahrenheit to Celsius.\u001b[39m\u001b[38;5;124m\"\u001b[39m)\n",
      "\u001b[0;31mNameError\u001b[0m: name 'Celsius_to_Fahrenheit' is not defined"
     ]
    }
   ],
   "source": [
    "# Setting dictionary to map the user input to the function\n",
    "conversion_features = {\n",
    "    'c': Celsius_to_Fahrenheit,\n",
    "    'f': Fahrenheit_to_Celsius\n",
    "}\n",
    "print(\"Choose the conversion direction.\")\n",
    "print(\"Put C for Celsius to Fahrenheit or F for Fahrenheit to Celsius.\")\n",
    "\n",
    "choice = input(\"Enter your choice: \").strip().lower()\n",
    "\n",
    "if choice in conversion_features:\n",
    "    temperature = float(input(\"Enter the temperature: \"))\n",
    "    \n",
    "    # Conversion\n",
    "    converted_temperature = conversion_features[choice](temperature)\n",
    "    \n",
    "    print(f\"{temperature} degrees {'Celsius' if choice == 'c' else 'Fahrenheit'} is {converted_temperature} degrees {'Fahrenheit' if choice == 'c' else 'Celsius'}\")\n",
    "else: \n",
    "    print(\"This was not a valid input. Please enter a C or an F.\")"
   ]
  },
  {
   "cell_type": "code",
   "execution_count": null,
   "id": "92f17725-674a-42e3-bee1-115c9e0ede9a",
   "metadata": {
    "tags": []
   },
   "outputs": [
    {
     "name": "stdout",
     "output_type": "stream",
     "text": [
      "Choose the conversion direction.\n",
      "Put C for Celsius to Fahrenheit or F for Fahrenheit to Celsius.\n"
     ]
    }
   ],
   "source": [
    "# Function to convert Celsius to Fahrenheit\n",
    "def celsius_to_fahrenheit(celsius):\n",
    "    fahrenheit = (celsius * 9/5) + 32\n",
    "    return fahrenheit\n",
    "\n",
    "# Function to convert Fahrenheit to Celsius\n",
    "def fahrenheit_to_celsius(fahrenheit):\n",
    "    celsius = (fahrenheit - 32) * 5/9\n",
    "    return celsius\n",
    "\n",
    "# Setting dictionary to map the user input to the function\n",
    "conversion_features = {\n",
    "    'c': celsius_to_fahrenheit,\n",
    "    'f': fahrenheit_to_celsius\n",
    "}\n",
    "print(\"Choose the conversion direction.\")\n",
    "print(\"Put C for Celsius to Fahrenheit or F for Fahrenheit to Celsius.\")\n",
    "\n",
    "choice = input(\"Enter your choice: \").strip().lower()\n",
    "\n",
    "if choice in conversion_features:\n",
    "    temperature = float(input(\"Enter the temperature: \"))\n",
    "    \n",
    "    # Conversion\n",
    "    converted_temperature = conversion_features[choice](temperature)\n",
    "    \n",
    "    print(f\"{temperature} degrees {'Celsius' if choice == 'c' else 'Fahrenheit'} is {converted_temperature} degrees {'Fahrenheit' if choice == 'c' else 'Celsius'}\")\n",
    "else: \n",
    "    print(\"This was not a valid input. Please enter a C or an F.\")\n"
   ]
  },
  {
   "cell_type": "code",
   "execution_count": null,
   "id": "f067ddfc-e4ed-4635-8ec1-a62f1c892eef",
   "metadata": {},
   "outputs": [],
   "source": []
  }
 ],
 "metadata": {
  "kernelspec": {
   "display_name": "Python 3 (ipykernel)",
   "language": "python",
   "name": "python3"
  },
  "language_info": {
   "codemirror_mode": {
    "name": "ipython",
    "version": 3
   },
   "file_extension": ".py",
   "mimetype": "text/x-python",
   "name": "python",
   "nbconvert_exporter": "python",
   "pygments_lexer": "ipython3",
   "version": "3.11.4"
  }
 },
 "nbformat": 4,
 "nbformat_minor": 5
}
